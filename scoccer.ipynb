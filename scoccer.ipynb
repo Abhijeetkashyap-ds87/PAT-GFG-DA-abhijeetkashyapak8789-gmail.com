{
 "cells": [
  {
   "cell_type": "code",
   "execution_count": 1,
   "id": "a5f0e73f",
   "metadata": {},
   "outputs": [],
   "source": [
    "import numpy as np\n",
    "import pandas as pd\n",
    "import matplotlib.pyplot as plt\n",
    "import seaborn as sns"
   ]
  },
  {
   "cell_type": "code",
   "execution_count": 2,
   "id": "3a223c10",
   "metadata": {},
   "outputs": [],
   "source": [
    "sc_data=pd.read_csv('/Users/abhijeetkashyap/Desktop/PAT-GFG-main/Data Analysis/PAT-1/soccer.csv')"
   ]
  },
  {
   "cell_type": "code",
   "execution_count": 3,
   "id": "df911c63",
   "metadata": {},
   "outputs": [
    {
     "data": {
      "text/html": [
       "<div>\n",
       "<style scoped>\n",
       "    .dataframe tbody tr th:only-of-type {\n",
       "        vertical-align: middle;\n",
       "    }\n",
       "\n",
       "    .dataframe tbody tr th {\n",
       "        vertical-align: top;\n",
       "    }\n",
       "\n",
       "    .dataframe thead th {\n",
       "        text-align: right;\n",
       "    }\n",
       "</style>\n",
       "<table border=\"1\" class=\"dataframe\">\n",
       "  <thead>\n",
       "    <tr style=\"text-align: right;\">\n",
       "      <th></th>\n",
       "      <th>Country</th>\n",
       "      <th>League</th>\n",
       "      <th>Club</th>\n",
       "      <th>Player Names</th>\n",
       "      <th>Matches_Played</th>\n",
       "      <th>Substitution</th>\n",
       "      <th>Mins</th>\n",
       "      <th>Goals</th>\n",
       "      <th>xG</th>\n",
       "      <th>xG Per Avg Match</th>\n",
       "      <th>Shots</th>\n",
       "      <th>OnTarget</th>\n",
       "      <th>Shots Per Avg Match</th>\n",
       "      <th>On Target Per Avg Match</th>\n",
       "      <th>Year</th>\n",
       "    </tr>\n",
       "  </thead>\n",
       "  <tbody>\n",
       "    <tr>\n",
       "      <th>0</th>\n",
       "      <td>Spain</td>\n",
       "      <td>La Liga</td>\n",
       "      <td>(BET)</td>\n",
       "      <td>Juanmi Callejon</td>\n",
       "      <td>19</td>\n",
       "      <td>16</td>\n",
       "      <td>1849</td>\n",
       "      <td>11</td>\n",
       "      <td>6.62</td>\n",
       "      <td>0.34</td>\n",
       "      <td>48</td>\n",
       "      <td>20</td>\n",
       "      <td>2.47</td>\n",
       "      <td>1.03</td>\n",
       "      <td>2016</td>\n",
       "    </tr>\n",
       "    <tr>\n",
       "      <th>1</th>\n",
       "      <td>Spain</td>\n",
       "      <td>La Liga</td>\n",
       "      <td>(BAR)</td>\n",
       "      <td>Antoine Griezmann</td>\n",
       "      <td>36</td>\n",
       "      <td>0</td>\n",
       "      <td>3129</td>\n",
       "      <td>16</td>\n",
       "      <td>11.86</td>\n",
       "      <td>0.36</td>\n",
       "      <td>88</td>\n",
       "      <td>41</td>\n",
       "      <td>2.67</td>\n",
       "      <td>1.24</td>\n",
       "      <td>2016</td>\n",
       "    </tr>\n",
       "    <tr>\n",
       "      <th>2</th>\n",
       "      <td>Spain</td>\n",
       "      <td>La Liga</td>\n",
       "      <td>(ATL)</td>\n",
       "      <td>Luis Suarez</td>\n",
       "      <td>34</td>\n",
       "      <td>1</td>\n",
       "      <td>2940</td>\n",
       "      <td>28</td>\n",
       "      <td>23.21</td>\n",
       "      <td>0.75</td>\n",
       "      <td>120</td>\n",
       "      <td>57</td>\n",
       "      <td>3.88</td>\n",
       "      <td>1.84</td>\n",
       "      <td>2016</td>\n",
       "    </tr>\n",
       "    <tr>\n",
       "      <th>3</th>\n",
       "      <td>Spain</td>\n",
       "      <td>La Liga</td>\n",
       "      <td>(CAR)</td>\n",
       "      <td>Ruben Castro</td>\n",
       "      <td>32</td>\n",
       "      <td>3</td>\n",
       "      <td>2842</td>\n",
       "      <td>13</td>\n",
       "      <td>14.06</td>\n",
       "      <td>0.47</td>\n",
       "      <td>117</td>\n",
       "      <td>42</td>\n",
       "      <td>3.91</td>\n",
       "      <td>1.40</td>\n",
       "      <td>2016</td>\n",
       "    </tr>\n",
       "    <tr>\n",
       "      <th>4</th>\n",
       "      <td>Spain</td>\n",
       "      <td>La Liga</td>\n",
       "      <td>(VAL)</td>\n",
       "      <td>Kevin Gameiro</td>\n",
       "      <td>21</td>\n",
       "      <td>10</td>\n",
       "      <td>1745</td>\n",
       "      <td>13</td>\n",
       "      <td>10.65</td>\n",
       "      <td>0.58</td>\n",
       "      <td>50</td>\n",
       "      <td>23</td>\n",
       "      <td>2.72</td>\n",
       "      <td>1.25</td>\n",
       "      <td>2016</td>\n",
       "    </tr>\n",
       "    <tr>\n",
       "      <th>...</th>\n",
       "      <td>...</td>\n",
       "      <td>...</td>\n",
       "      <td>...</td>\n",
       "      <td>...</td>\n",
       "      <td>...</td>\n",
       "      <td>...</td>\n",
       "      <td>...</td>\n",
       "      <td>...</td>\n",
       "      <td>...</td>\n",
       "      <td>...</td>\n",
       "      <td>...</td>\n",
       "      <td>...</td>\n",
       "      <td>...</td>\n",
       "      <td>...</td>\n",
       "      <td>...</td>\n",
       "    </tr>\n",
       "    <tr>\n",
       "      <th>655</th>\n",
       "      <td>Netherlands</td>\n",
       "      <td>Eredivisie</td>\n",
       "      <td>(UTR)</td>\n",
       "      <td>Gyrano Kerk</td>\n",
       "      <td>24</td>\n",
       "      <td>0</td>\n",
       "      <td>2155</td>\n",
       "      <td>10</td>\n",
       "      <td>7.49</td>\n",
       "      <td>0.33</td>\n",
       "      <td>50</td>\n",
       "      <td>18</td>\n",
       "      <td>2.20</td>\n",
       "      <td>0.79</td>\n",
       "      <td>2020</td>\n",
       "    </tr>\n",
       "    <tr>\n",
       "      <th>656</th>\n",
       "      <td>Netherlands</td>\n",
       "      <td>Eredivisie</td>\n",
       "      <td>(AJA)</td>\n",
       "      <td>Quincy Promes</td>\n",
       "      <td>18</td>\n",
       "      <td>2</td>\n",
       "      <td>1573</td>\n",
       "      <td>12</td>\n",
       "      <td>9.77</td>\n",
       "      <td>0.59</td>\n",
       "      <td>56</td>\n",
       "      <td>30</td>\n",
       "      <td>3.38</td>\n",
       "      <td>1.81</td>\n",
       "      <td>2020</td>\n",
       "    </tr>\n",
       "    <tr>\n",
       "      <th>657</th>\n",
       "      <td>Netherlands</td>\n",
       "      <td>Eredivisie</td>\n",
       "      <td>(PSV)</td>\n",
       "      <td>Denzel Dumfries</td>\n",
       "      <td>25</td>\n",
       "      <td>0</td>\n",
       "      <td>2363</td>\n",
       "      <td>7</td>\n",
       "      <td>5.72</td>\n",
       "      <td>0.23</td>\n",
       "      <td>45</td>\n",
       "      <td>14</td>\n",
       "      <td>1.81</td>\n",
       "      <td>0.56</td>\n",
       "      <td>2020</td>\n",
       "    </tr>\n",
       "    <tr>\n",
       "      <th>658</th>\n",
       "      <td>Netherlands</td>\n",
       "      <td>Eredivisie</td>\n",
       "      <td>NaN</td>\n",
       "      <td>Cyriel Dessers</td>\n",
       "      <td>26</td>\n",
       "      <td>0</td>\n",
       "      <td>2461</td>\n",
       "      <td>15</td>\n",
       "      <td>14.51</td>\n",
       "      <td>0.56</td>\n",
       "      <td>84</td>\n",
       "      <td>43</td>\n",
       "      <td>3.24</td>\n",
       "      <td>1.66</td>\n",
       "      <td>2020</td>\n",
       "    </tr>\n",
       "    <tr>\n",
       "      <th>659</th>\n",
       "      <td>Netherlands</td>\n",
       "      <td>Eredivisie</td>\n",
       "      <td>(PSV)</td>\n",
       "      <td>Cody Gakpo</td>\n",
       "      <td>14</td>\n",
       "      <td>11</td>\n",
       "      <td>1557</td>\n",
       "      <td>7</td>\n",
       "      <td>4.43</td>\n",
       "      <td>0.27</td>\n",
       "      <td>38</td>\n",
       "      <td>15</td>\n",
       "      <td>2.32</td>\n",
       "      <td>0.92</td>\n",
       "      <td>2020</td>\n",
       "    </tr>\n",
       "  </tbody>\n",
       "</table>\n",
       "<p>660 rows × 15 columns</p>\n",
       "</div>"
      ],
      "text/plain": [
       "          Country      League   Club       Player Names  Matches_Played  \\\n",
       "0           Spain     La Liga  (BET)    Juanmi Callejon              19   \n",
       "1           Spain     La Liga  (BAR)  Antoine Griezmann              36   \n",
       "2           Spain     La Liga  (ATL)        Luis Suarez              34   \n",
       "3           Spain     La Liga  (CAR)       Ruben Castro              32   \n",
       "4           Spain     La Liga  (VAL)      Kevin Gameiro              21   \n",
       "..            ...         ...    ...                ...             ...   \n",
       "655   Netherlands  Eredivisie  (UTR)        Gyrano Kerk              24   \n",
       "656   Netherlands  Eredivisie  (AJA)      Quincy Promes              18   \n",
       "657   Netherlands  Eredivisie  (PSV)    Denzel Dumfries              25   \n",
       "658   Netherlands  Eredivisie    NaN    Cyriel Dessers               26   \n",
       "659   Netherlands  Eredivisie  (PSV)         Cody Gakpo              14   \n",
       "\n",
       "     Substitution   Mins  Goals     xG  xG Per Avg Match  Shots  OnTarget  \\\n",
       "0               16  1849     11   6.62              0.34     48        20   \n",
       "1                0  3129     16  11.86              0.36     88        41   \n",
       "2                1  2940     28  23.21              0.75    120        57   \n",
       "3                3  2842     13  14.06              0.47    117        42   \n",
       "4               10  1745     13  10.65              0.58     50        23   \n",
       "..             ...   ...    ...    ...               ...    ...       ...   \n",
       "655              0  2155     10   7.49              0.33     50        18   \n",
       "656              2  1573     12   9.77              0.59     56        30   \n",
       "657              0  2363      7   5.72              0.23     45        14   \n",
       "658              0  2461     15  14.51              0.56     84        43   \n",
       "659             11  1557      7   4.43              0.27     38        15   \n",
       "\n",
       "     Shots Per Avg Match  On Target Per Avg Match  Year  \n",
       "0                   2.47                     1.03  2016  \n",
       "1                   2.67                     1.24  2016  \n",
       "2                   3.88                     1.84  2016  \n",
       "3                   3.91                     1.40  2016  \n",
       "4                   2.72                     1.25  2016  \n",
       "..                   ...                      ...   ...  \n",
       "655                 2.20                     0.79  2020  \n",
       "656                 3.38                     1.81  2020  \n",
       "657                 1.81                     0.56  2020  \n",
       "658                 3.24                     1.66  2020  \n",
       "659                 2.32                     0.92  2020  \n",
       "\n",
       "[660 rows x 15 columns]"
      ]
     },
     "execution_count": 3,
     "metadata": {},
     "output_type": "execute_result"
    }
   ],
   "source": [
    "sc_data"
   ]
  },
  {
   "cell_type": "code",
   "execution_count": 4,
   "id": "ffc8fb44",
   "metadata": {},
   "outputs": [
    {
     "data": {
      "text/plain": [
       "(660, 15)"
      ]
     },
     "execution_count": 4,
     "metadata": {},
     "output_type": "execute_result"
    }
   ],
   "source": [
    "sc_data.shape"
   ]
  },
  {
   "cell_type": "code",
   "execution_count": 5,
   "id": "3db401e2",
   "metadata": {},
   "outputs": [
    {
     "data": {
      "text/plain": [
       "Index(['Country', 'League', 'Club', 'Player Names', 'Matches_Played',\n",
       "       'Substitution ', 'Mins', 'Goals', 'xG', 'xG Per Avg Match', 'Shots',\n",
       "       'OnTarget', 'Shots Per Avg Match', 'On Target Per Avg Match', 'Year'],\n",
       "      dtype='object')"
      ]
     },
     "execution_count": 5,
     "metadata": {},
     "output_type": "execute_result"
    }
   ],
   "source": [
    "sc_data.columns"
   ]
  },
  {
   "cell_type": "markdown",
   "id": "5d41a128",
   "metadata": {},
   "source": [
    "xG': 'xG' stands for 'expected goals.' It is a statistical measure that estimates the likelihood of a shot resulting in a goal based on various factors such as shot distance, angle, etc. It gives an idea of how many goals a player was expected to score based on the quality of their chances.\n",
    "\n",
    "'xG Per Avg Match': This column likely represents the average expected goals (xG) a player has per match, providing an insight into their goal-scoring abilities.\n",
    "\n",
    "'Shots': This column would contain the total number of shots attempted by each player during the matches they played.\n",
    "\n",
    "'OnTarget': It probably represents the number of shots on target, meaning shots that were heading towards the goal and required the goalkeeper's intervention.\n",
    "\n",
    "'Shots Per Avg Match': This column indicates the average number of shots a player takes per match.\n",
    "\n",
    "'On Target Per Avg Match': It likely represents the average number of shots on target per match for each player."
   ]
  },
  {
   "cell_type": "markdown",
   "id": "51a6ff75",
   "metadata": {},
   "source": [
    "## ------------------------------------------------------"
   ]
  },
  {
   "cell_type": "markdown",
   "id": "24ea0803",
   "metadata": {},
   "source": [
    "Q 1.what is the total no of goal in entire dataset"
   ]
  },
  {
   "cell_type": "code",
   "execution_count": 6,
   "id": "15456480",
   "metadata": {},
   "outputs": [
    {
     "data": {
      "text/plain": [
       "7795"
      ]
     },
     "execution_count": 6,
     "metadata": {},
     "output_type": "execute_result"
    }
   ],
   "source": [
    "sc_data['Goals'].sum()"
   ]
  },
  {
   "cell_type": "markdown",
   "id": "73815d0d",
   "metadata": {},
   "source": [
    "## ----------------------------------------------"
   ]
  },
  {
   "cell_type": "raw",
   "id": "7b7dea58",
   "metadata": {},
   "source": [
    "Q 2.which player scored  more goal as substitution"
   ]
  },
  {
   "cell_type": "code",
   "execution_count": 7,
   "id": "4535f0cd",
   "metadata": {},
   "outputs": [],
   "source": [
    "sc_data.rename(columns={'Substitution ':'Substitution'},inplace=True)"
   ]
  },
  {
   "cell_type": "code",
   "execution_count": 8,
   "id": "5b678ea5",
   "metadata": {},
   "outputs": [],
   "source": [
    "temp=sc_data[sc_data['Substitution']>0]"
   ]
  },
  {
   "cell_type": "code",
   "execution_count": 9,
   "id": "2471fd98",
   "metadata": {},
   "outputs": [
    {
     "data": {
      "text/plain": [
       "12     37\n",
       "195    36\n",
       "391    36\n",
       "107    33\n",
       "251    33\n",
       "54     31\n",
       "46     30\n",
       "62     29\n",
       "32     29\n",
       "140    29\n",
       "Name: Goals, dtype: int64"
      ]
     },
     "execution_count": 9,
     "metadata": {},
     "output_type": "execute_result"
    }
   ],
   "source": [
    "temp['Goals'].sort_values(ascending=False).iloc[0:10]"
   ]
  },
  {
   "cell_type": "code",
   "execution_count": 10,
   "id": "aeea93c9",
   "metadata": {},
   "outputs": [
    {
     "data": {
      "text/html": [
       "<div>\n",
       "<style scoped>\n",
       "    .dataframe tbody tr th:only-of-type {\n",
       "        vertical-align: middle;\n",
       "    }\n",
       "\n",
       "    .dataframe tbody tr th {\n",
       "        vertical-align: top;\n",
       "    }\n",
       "\n",
       "    .dataframe thead th {\n",
       "        text-align: right;\n",
       "    }\n",
       "</style>\n",
       "<table border=\"1\" class=\"dataframe\">\n",
       "  <thead>\n",
       "    <tr style=\"text-align: right;\">\n",
       "      <th></th>\n",
       "      <th>Country</th>\n",
       "      <th>League</th>\n",
       "      <th>Club</th>\n",
       "      <th>Player Names</th>\n",
       "      <th>Matches_Played</th>\n",
       "      <th>Substitution</th>\n",
       "      <th>Mins</th>\n",
       "      <th>Goals</th>\n",
       "      <th>xG</th>\n",
       "      <th>xG Per Avg Match</th>\n",
       "      <th>Shots</th>\n",
       "      <th>OnTarget</th>\n",
       "      <th>Shots Per Avg Match</th>\n",
       "      <th>On Target Per Avg Match</th>\n",
       "      <th>Year</th>\n",
       "    </tr>\n",
       "  </thead>\n",
       "  <tbody>\n",
       "    <tr>\n",
       "      <th>12</th>\n",
       "      <td>Spain</td>\n",
       "      <td>La Liga</td>\n",
       "      <td>(BAR)</td>\n",
       "      <td>Lionel Messi</td>\n",
       "      <td>32</td>\n",
       "      <td>2</td>\n",
       "      <td>2910</td>\n",
       "      <td>37</td>\n",
       "      <td>26.65</td>\n",
       "      <td>0.87</td>\n",
       "      <td>179</td>\n",
       "      <td>76</td>\n",
       "      <td>5.84</td>\n",
       "      <td>2.48</td>\n",
       "      <td>2016</td>\n",
       "    </tr>\n",
       "    <tr>\n",
       "      <th>195</th>\n",
       "      <td>Spain</td>\n",
       "      <td>La Liga</td>\n",
       "      <td>(BAR)</td>\n",
       "      <td>Lionel Messi</td>\n",
       "      <td>29</td>\n",
       "      <td>5</td>\n",
       "      <td>2849</td>\n",
       "      <td>36</td>\n",
       "      <td>25.49</td>\n",
       "      <td>0.85</td>\n",
       "      <td>170</td>\n",
       "      <td>87</td>\n",
       "      <td>5.67</td>\n",
       "      <td>2.90</td>\n",
       "      <td>2018</td>\n",
       "    </tr>\n",
       "    <tr>\n",
       "      <th>391</th>\n",
       "      <td>Italy</td>\n",
       "      <td>Serie A</td>\n",
       "      <td>(LAZ)</td>\n",
       "      <td>Ciro Immobile</td>\n",
       "      <td>36</td>\n",
       "      <td>1</td>\n",
       "      <td>3371</td>\n",
       "      <td>36</td>\n",
       "      <td>26.61</td>\n",
       "      <td>0.75</td>\n",
       "      <td>142</td>\n",
       "      <td>71</td>\n",
       "      <td>4.00</td>\n",
       "      <td>2.00</td>\n",
       "      <td>2019</td>\n",
       "    </tr>\n",
       "    <tr>\n",
       "      <th>107</th>\n",
       "      <td>Spain</td>\n",
       "      <td>La Liga</td>\n",
       "      <td>(BAR)</td>\n",
       "      <td>Lionel Messi</td>\n",
       "      <td>32</td>\n",
       "      <td>4</td>\n",
       "      <td>3123</td>\n",
       "      <td>33</td>\n",
       "      <td>32.54</td>\n",
       "      <td>0.99</td>\n",
       "      <td>197</td>\n",
       "      <td>95</td>\n",
       "      <td>5.99</td>\n",
       "      <td>2.89</td>\n",
       "      <td>2017</td>\n",
       "    </tr>\n",
       "    <tr>\n",
       "      <th>251</th>\n",
       "      <td>France</td>\n",
       "      <td>France Ligue 1</td>\n",
       "      <td>(PSG)</td>\n",
       "      <td>Kylian Mbappe-Lottin</td>\n",
       "      <td>24</td>\n",
       "      <td>5</td>\n",
       "      <td>2488</td>\n",
       "      <td>33</td>\n",
       "      <td>31.17</td>\n",
       "      <td>1.19</td>\n",
       "      <td>125</td>\n",
       "      <td>70</td>\n",
       "      <td>4.77</td>\n",
       "      <td>2.67</td>\n",
       "      <td>2018</td>\n",
       "    </tr>\n",
       "    <tr>\n",
       "      <th>54</th>\n",
       "      <td>Germany</td>\n",
       "      <td>Bundesliga</td>\n",
       "      <td>(ARS)</td>\n",
       "      <td>Pierre-Emerick Aubameyang</td>\n",
       "      <td>31</td>\n",
       "      <td>1</td>\n",
       "      <td>2894</td>\n",
       "      <td>31</td>\n",
       "      <td>28.94</td>\n",
       "      <td>0.95</td>\n",
       "      <td>116</td>\n",
       "      <td>78</td>\n",
       "      <td>3.81</td>\n",
       "      <td>2.56</td>\n",
       "      <td>2016</td>\n",
       "    </tr>\n",
       "    <tr>\n",
       "      <th>46</th>\n",
       "      <td>Germany</td>\n",
       "      <td>Bundesliga</td>\n",
       "      <td>(BAY)</td>\n",
       "      <td>Robert Lewandowski</td>\n",
       "      <td>31</td>\n",
       "      <td>2</td>\n",
       "      <td>2871</td>\n",
       "      <td>30</td>\n",
       "      <td>30.52</td>\n",
       "      <td>1.01</td>\n",
       "      <td>143</td>\n",
       "      <td>86</td>\n",
       "      <td>4.73</td>\n",
       "      <td>2.85</td>\n",
       "      <td>2016</td>\n",
       "    </tr>\n",
       "    <tr>\n",
       "      <th>62</th>\n",
       "      <td>England</td>\n",
       "      <td>Premier League</td>\n",
       "      <td>(TOT)</td>\n",
       "      <td>Harry Kane</td>\n",
       "      <td>29</td>\n",
       "      <td>1</td>\n",
       "      <td>2636</td>\n",
       "      <td>29</td>\n",
       "      <td>18.87</td>\n",
       "      <td>0.68</td>\n",
       "      <td>110</td>\n",
       "      <td>58</td>\n",
       "      <td>3.96</td>\n",
       "      <td>2.09</td>\n",
       "      <td>2016</td>\n",
       "    </tr>\n",
       "    <tr>\n",
       "      <th>32</th>\n",
       "      <td>Italy</td>\n",
       "      <td>Serie A</td>\n",
       "      <td>(ROM)</td>\n",
       "      <td>Edin Dzeko</td>\n",
       "      <td>33</td>\n",
       "      <td>4</td>\n",
       "      <td>3194</td>\n",
       "      <td>29</td>\n",
       "      <td>30.60</td>\n",
       "      <td>0.91</td>\n",
       "      <td>178</td>\n",
       "      <td>99</td>\n",
       "      <td>5.29</td>\n",
       "      <td>2.94</td>\n",
       "      <td>2016</td>\n",
       "    </tr>\n",
       "    <tr>\n",
       "      <th>140</th>\n",
       "      <td>Germany</td>\n",
       "      <td>Bundesliga</td>\n",
       "      <td>(BAY)</td>\n",
       "      <td>Robert Lewandowski</td>\n",
       "      <td>24</td>\n",
       "      <td>6</td>\n",
       "      <td>2247</td>\n",
       "      <td>29</td>\n",
       "      <td>26.49</td>\n",
       "      <td>1.12</td>\n",
       "      <td>127</td>\n",
       "      <td>54</td>\n",
       "      <td>5.37</td>\n",
       "      <td>2.28</td>\n",
       "      <td>2017</td>\n",
       "    </tr>\n",
       "  </tbody>\n",
       "</table>\n",
       "</div>"
      ],
      "text/plain": [
       "     Country          League   Club               Player Names  \\\n",
       "12     Spain         La Liga  (BAR)               Lionel Messi   \n",
       "195    Spain         La Liga  (BAR)               Lionel Messi   \n",
       "391    Italy         Serie A  (LAZ)              Ciro Immobile   \n",
       "107    Spain         La Liga  (BAR)               Lionel Messi   \n",
       "251   France  France Ligue 1  (PSG)       Kylian Mbappe-Lottin   \n",
       "54   Germany      Bundesliga  (ARS)  Pierre-Emerick Aubameyang   \n",
       "46   Germany      Bundesliga  (BAY)         Robert Lewandowski   \n",
       "62   England  Premier League  (TOT)                 Harry Kane   \n",
       "32     Italy         Serie A  (ROM)                 Edin Dzeko   \n",
       "140  Germany      Bundesliga  (BAY)         Robert Lewandowski   \n",
       "\n",
       "     Matches_Played  Substitution  Mins  Goals     xG  xG Per Avg Match  \\\n",
       "12               32             2  2910     37  26.65              0.87   \n",
       "195              29             5  2849     36  25.49              0.85   \n",
       "391              36             1  3371     36  26.61              0.75   \n",
       "107              32             4  3123     33  32.54              0.99   \n",
       "251              24             5  2488     33  31.17              1.19   \n",
       "54               31             1  2894     31  28.94              0.95   \n",
       "46               31             2  2871     30  30.52              1.01   \n",
       "62               29             1  2636     29  18.87              0.68   \n",
       "32               33             4  3194     29  30.60              0.91   \n",
       "140              24             6  2247     29  26.49              1.12   \n",
       "\n",
       "     Shots  OnTarget  Shots Per Avg Match  On Target Per Avg Match  Year  \n",
       "12     179        76                 5.84                     2.48  2016  \n",
       "195    170        87                 5.67                     2.90  2018  \n",
       "391    142        71                 4.00                     2.00  2019  \n",
       "107    197        95                 5.99                     2.89  2017  \n",
       "251    125        70                 4.77                     2.67  2018  \n",
       "54     116        78                 3.81                     2.56  2016  \n",
       "46     143        86                 4.73                     2.85  2016  \n",
       "62     110        58                 3.96                     2.09  2016  \n",
       "32     178        99                 5.29                     2.94  2016  \n",
       "140    127        54                 5.37                     2.28  2017  "
      ]
     },
     "execution_count": 10,
     "metadata": {},
     "output_type": "execute_result"
    }
   ],
   "source": [
    "temp.loc[[12,195,391,107,251,54,46,62,32,140]]"
   ]
  },
  {
   "cell_type": "code",
   "execution_count": 11,
   "id": "876b3f0e",
   "metadata": {},
   "outputs": [
    {
     "data": {
      "text/html": [
       "<div>\n",
       "<style scoped>\n",
       "    .dataframe tbody tr th:only-of-type {\n",
       "        vertical-align: middle;\n",
       "    }\n",
       "\n",
       "    .dataframe tbody tr th {\n",
       "        vertical-align: top;\n",
       "    }\n",
       "\n",
       "    .dataframe thead th {\n",
       "        text-align: right;\n",
       "    }\n",
       "</style>\n",
       "<table border=\"1\" class=\"dataframe\">\n",
       "  <thead>\n",
       "    <tr style=\"text-align: right;\">\n",
       "      <th></th>\n",
       "      <th>Country</th>\n",
       "      <th>League</th>\n",
       "      <th>Club</th>\n",
       "      <th>Player Names</th>\n",
       "      <th>Matches_Played</th>\n",
       "      <th>Substitution</th>\n",
       "      <th>Mins</th>\n",
       "      <th>Goals</th>\n",
       "      <th>xG</th>\n",
       "      <th>xG Per Avg Match</th>\n",
       "      <th>Shots</th>\n",
       "      <th>OnTarget</th>\n",
       "      <th>Shots Per Avg Match</th>\n",
       "      <th>On Target Per Avg Match</th>\n",
       "      <th>Year</th>\n",
       "    </tr>\n",
       "  </thead>\n",
       "  <tbody>\n",
       "    <tr>\n",
       "      <th>486</th>\n",
       "      <td>Netherlands</td>\n",
       "      <td>Eredivisie</td>\n",
       "      <td>(VIT)</td>\n",
       "      <td>Lois Openda</td>\n",
       "      <td>10</td>\n",
       "      <td>0</td>\n",
       "      <td>775</td>\n",
       "      <td>5</td>\n",
       "      <td>2.94</td>\n",
       "      <td>0.36</td>\n",
       "      <td>28</td>\n",
       "      <td>9</td>\n",
       "      <td>3.43</td>\n",
       "      <td>1.10</td>\n",
       "      <td>2019</td>\n",
       "    </tr>\n",
       "    <tr>\n",
       "      <th>466</th>\n",
       "      <td>Brazil</td>\n",
       "      <td>Campeonato Brasileiro SÃ©rie A</td>\n",
       "      <td>(SAN)</td>\n",
       "      <td>Marinho</td>\n",
       "      <td>18</td>\n",
       "      <td>11</td>\n",
       "      <td>1917</td>\n",
       "      <td>8</td>\n",
       "      <td>6.66</td>\n",
       "      <td>0.33</td>\n",
       "      <td>73</td>\n",
       "      <td>26</td>\n",
       "      <td>3.62</td>\n",
       "      <td>1.29</td>\n",
       "      <td>2019</td>\n",
       "    </tr>\n",
       "    <tr>\n",
       "      <th>641</th>\n",
       "      <td>Netherlands</td>\n",
       "      <td>Eredivisie</td>\n",
       "      <td>(AZA)</td>\n",
       "      <td>Teun Koopmeiners</td>\n",
       "      <td>25</td>\n",
       "      <td>0</td>\n",
       "      <td>2336</td>\n",
       "      <td>11</td>\n",
       "      <td>9.34</td>\n",
       "      <td>0.38</td>\n",
       "      <td>35</td>\n",
       "      <td>18</td>\n",
       "      <td>1.42</td>\n",
       "      <td>0.73</td>\n",
       "      <td>2020</td>\n",
       "    </tr>\n",
       "    <tr>\n",
       "      <th>96</th>\n",
       "      <td>Brazil</td>\n",
       "      <td>Campeonato Brasileiro SÃ©rie A</td>\n",
       "      <td>NaN</td>\n",
       "      <td>Kleber Gladiador</td>\n",
       "      <td>23</td>\n",
       "      <td>1</td>\n",
       "      <td>2143</td>\n",
       "      <td>9</td>\n",
       "      <td>8.35</td>\n",
       "      <td>0.37</td>\n",
       "      <td>50</td>\n",
       "      <td>23</td>\n",
       "      <td>2.22</td>\n",
       "      <td>1.02</td>\n",
       "      <td>2016</td>\n",
       "    </tr>\n",
       "    <tr>\n",
       "      <th>138</th>\n",
       "      <td>Italy</td>\n",
       "      <td>Serie A</td>\n",
       "      <td>(UDI)</td>\n",
       "      <td>Kevin Lasagna</td>\n",
       "      <td>26</td>\n",
       "      <td>3</td>\n",
       "      <td>2244</td>\n",
       "      <td>12</td>\n",
       "      <td>11.34</td>\n",
       "      <td>0.48</td>\n",
       "      <td>72</td>\n",
       "      <td>31</td>\n",
       "      <td>3.05</td>\n",
       "      <td>1.31</td>\n",
       "      <td>2017</td>\n",
       "    </tr>\n",
       "  </tbody>\n",
       "</table>\n",
       "</div>"
      ],
      "text/plain": [
       "          Country                          League   Club      Player Names  \\\n",
       "486   Netherlands                      Eredivisie  (VIT)       Lois Openda   \n",
       "466        Brazil  Campeonato Brasileiro SÃ©rie A  (SAN)          Marinho    \n",
       "641   Netherlands                      Eredivisie  (AZA)  Teun Koopmeiners   \n",
       "96         Brazil  Campeonato Brasileiro SÃ©rie A    NaN  Kleber Gladiador   \n",
       "138         Italy                         Serie A  (UDI)     Kevin Lasagna   \n",
       "\n",
       "     Matches_Played  Substitution  Mins  Goals     xG  xG Per Avg Match  \\\n",
       "486              10             0   775      5   2.94              0.36   \n",
       "466              18            11  1917      8   6.66              0.33   \n",
       "641              25             0  2336     11   9.34              0.38   \n",
       "96               23             1  2143      9   8.35              0.37   \n",
       "138              26             3  2244     12  11.34              0.48   \n",
       "\n",
       "     Shots  OnTarget  Shots Per Avg Match  On Target Per Avg Match  Year  \n",
       "486     28         9                 3.43                     1.10  2019  \n",
       "466     73        26                 3.62                     1.29  2019  \n",
       "641     35        18                 1.42                     0.73  2020  \n",
       "96      50        23                 2.22                     1.02  2016  \n",
       "138     72        31                 3.05                     1.31  2017  "
      ]
     },
     "execution_count": 11,
     "metadata": {},
     "output_type": "execute_result"
    }
   ],
   "source": [
    "sc_data.sample(5)"
   ]
  },
  {
   "cell_type": "code",
   "execution_count": 12,
   "id": "0d902f8e",
   "metadata": {},
   "outputs": [
    {
     "data": {
      "text/plain": [
       "Index(['Country', 'League', 'Club', 'Player Names', 'Matches_Played',\n",
       "       'Substitution', 'Mins', 'Goals', 'xG', 'xG Per Avg Match', 'Shots',\n",
       "       'OnTarget', 'Shots Per Avg Match', 'On Target Per Avg Match', 'Year'],\n",
       "      dtype='object')"
      ]
     },
     "execution_count": 12,
     "metadata": {},
     "output_type": "execute_result"
    }
   ],
   "source": [
    "sc_data.columns"
   ]
  },
  {
   "cell_type": "code",
   "execution_count": 13,
   "id": "826c75f7",
   "metadata": {},
   "outputs": [
    {
     "data": {
      "text/plain": [
       "(169, 15)"
      ]
     },
     "execution_count": 13,
     "metadata": {},
     "output_type": "execute_result"
    }
   ],
   "source": [
    "sc_data[sc_data['Substitution']==0].shape"
   ]
  },
  {
   "cell_type": "markdown",
   "id": "1c0e992d",
   "metadata": {},
   "source": [
    "## -------------------------------------------------------"
   ]
  },
  {
   "cell_type": "raw",
   "id": "86f6dbed",
   "metadata": {},
   "source": [
    "Q3.Find the top 5 players with the most number of goals scored. Also find the total number of goals scored by them"
   ]
  },
  {
   "cell_type": "code",
   "execution_count": 14,
   "id": "2648d48f",
   "metadata": {},
   "outputs": [],
   "source": [
    "index=sc_data['Goals'].sort_values(ascending=False).iloc[0:5].index"
   ]
  },
  {
   "cell_type": "code",
   "execution_count": 15,
   "id": "cab4e54b",
   "metadata": {},
   "outputs": [],
   "source": [
    "temp=sc_data.loc[index]"
   ]
  },
  {
   "cell_type": "code",
   "execution_count": 16,
   "id": "00f630d7",
   "metadata": {},
   "outputs": [
    {
     "data": {
      "text/plain": [
       "array(['Cristiano Ronaldo', 'Lionel Messi', 'Ciro Immobile',\n",
       "       'Lionel Messi', 'Carlos Vela'], dtype=object)"
      ]
     },
     "execution_count": 16,
     "metadata": {},
     "output_type": "execute_result"
    }
   ],
   "source": [
    "temp['Player Names'].values"
   ]
  },
  {
   "cell_type": "code",
   "execution_count": 17,
   "id": "fe438a6c",
   "metadata": {},
   "outputs": [
    {
     "data": {
      "text/plain": [
       "187"
      ]
     },
     "execution_count": 17,
     "metadata": {},
     "output_type": "execute_result"
    }
   ],
   "source": [
    "temp['Goals'].sum()"
   ]
  },
  {
   "cell_type": "markdown",
   "id": "e3e176c7",
   "metadata": {},
   "source": [
    "## ----------------------------------------------------------"
   ]
  },
  {
   "cell_type": "raw",
   "id": "9477effd",
   "metadata": {},
   "source": [
    "Q4. What are the top 10 countries with the most number of players in the dataset?"
   ]
  },
  {
   "cell_type": "code",
   "execution_count": 18,
   "id": "0b910354",
   "metadata": {},
   "outputs": [
    {
     "data": {
      "text/plain": [
       "array(['Spain', 'Italy', 'Germany', 'England', 'Brazil', 'France', 'USA',\n",
       "       'Portugal ', ' Netherlands'], dtype=object)"
      ]
     },
     "execution_count": 18,
     "metadata": {},
     "output_type": "execute_result"
    }
   ],
   "source": [
    "sc_data['Country'].unique()"
   ]
  },
  {
   "cell_type": "code",
   "execution_count": 19,
   "id": "c75af634",
   "metadata": {},
   "outputs": [],
   "source": [
    "temp2=sc_data.groupby('Country')['Player Names'].unique()"
   ]
  },
  {
   "cell_type": "code",
   "execution_count": 20,
   "id": "4dbede7d",
   "metadata": {},
   "outputs": [],
   "source": [
    "arr=np.empty(shape=9,dtype=int)\n",
    "for i in range(9):\n",
    "    arr[i]=temp2.values[i].size"
   ]
  },
  {
   "cell_type": "code",
   "execution_count": 21,
   "id": "a3400273",
   "metadata": {},
   "outputs": [
    {
     "data": {
      "text/html": [
       "<div>\n",
       "<style scoped>\n",
       "    .dataframe tbody tr th:only-of-type {\n",
       "        vertical-align: middle;\n",
       "    }\n",
       "\n",
       "    .dataframe tbody tr th {\n",
       "        vertical-align: top;\n",
       "    }\n",
       "\n",
       "    .dataframe thead th {\n",
       "        text-align: right;\n",
       "    }\n",
       "</style>\n",
       "<table border=\"1\" class=\"dataframe\">\n",
       "  <thead>\n",
       "    <tr style=\"text-align: right;\">\n",
       "      <th></th>\n",
       "      <th>COUNTRY</th>\n",
       "      <th>no.of players</th>\n",
       "    </tr>\n",
       "  </thead>\n",
       "  <tbody>\n",
       "    <tr>\n",
       "      <th>1</th>\n",
       "      <td>Brazil</td>\n",
       "      <td>76</td>\n",
       "    </tr>\n",
       "    <tr>\n",
       "      <th>4</th>\n",
       "      <td>Germany</td>\n",
       "      <td>62</td>\n",
       "    </tr>\n",
       "    <tr>\n",
       "      <th>7</th>\n",
       "      <td>Spain</td>\n",
       "      <td>62</td>\n",
       "    </tr>\n",
       "    <tr>\n",
       "      <th>2</th>\n",
       "      <td>England</td>\n",
       "      <td>55</td>\n",
       "    </tr>\n",
       "    <tr>\n",
       "      <th>5</th>\n",
       "      <td>Italy</td>\n",
       "      <td>55</td>\n",
       "    </tr>\n",
       "    <tr>\n",
       "      <th>3</th>\n",
       "      <td>France</td>\n",
       "      <td>47</td>\n",
       "    </tr>\n",
       "    <tr>\n",
       "      <th>6</th>\n",
       "      <td>Portugal</td>\n",
       "      <td>37</td>\n",
       "    </tr>\n",
       "    <tr>\n",
       "      <th>0</th>\n",
       "      <td>Netherlands</td>\n",
       "      <td>34</td>\n",
       "    </tr>\n",
       "    <tr>\n",
       "      <th>8</th>\n",
       "      <td>USA</td>\n",
       "      <td>34</td>\n",
       "    </tr>\n",
       "  </tbody>\n",
       "</table>\n",
       "</div>"
      ],
      "text/plain": [
       "        COUNTRY  no.of players\n",
       "1        Brazil             76\n",
       "4       Germany             62\n",
       "7         Spain             62\n",
       "2       England             55\n",
       "5         Italy             55\n",
       "3        France             47\n",
       "6     Portugal              37\n",
       "0   Netherlands             34\n",
       "8           USA             34"
      ]
     },
     "execution_count": 21,
     "metadata": {},
     "output_type": "execute_result"
    }
   ],
   "source": [
    "pd.DataFrame({'COUNTRY':temp2.index,'no.of players':arr}).sort_values(by='no.of players',ascending=False)"
   ]
  },
  {
   "cell_type": "markdown",
   "id": "0e1a8191",
   "metadata": {},
   "source": [
    "## --------------------------------------------------------"
   ]
  },
  {
   "cell_type": "raw",
   "id": "d5ad4e2c",
   "metadata": {},
   "source": [
    "Q5: Q1. Create a new dataframe after removing the outliers for Mins Column in the dataset (conside the upper quantile to be 99 percentile and the lower quantile to be 1 percentile.). After that Find the difference in the number of rows?\n",
    "* Difference is df.shape(only rows) - df.shape(rows of filtered data only)"
   ]
  },
  {
   "cell_type": "code",
   "execution_count": 22,
   "id": "2688bbca",
   "metadata": {},
   "outputs": [
    {
     "data": {
      "text/plain": [
       "count     660.000000\n",
       "mean     2071.416667\n",
       "std       900.595049\n",
       "min       264.000000\n",
       "25%      1363.500000\n",
       "50%      2245.500000\n",
       "75%      2822.000000\n",
       "max      4177.000000\n",
       "Name: Mins, dtype: float64"
      ]
     },
     "execution_count": 22,
     "metadata": {},
     "output_type": "execute_result"
    }
   ],
   "source": [
    "sc_data['Mins'].describe()"
   ]
  },
  {
   "cell_type": "code",
   "execution_count": 23,
   "id": "37c71c8c",
   "metadata": {},
   "outputs": [],
   "source": [
    "new_series=sc_data['Mins']\n",
    "q1=np.percentile(new_series,1)\n",
    "q2= 2245.500000\n",
    "q3=np.percentile(new_series,99)"
   ]
  },
  {
   "cell_type": "code",
   "execution_count": 24,
   "id": "df6701e7",
   "metadata": {},
   "outputs": [
    {
     "name": "stdout",
     "output_type": "stream",
     "text": [
      "Ist quantile 396.59 \n",
      "Median 2245.5 \n",
      "Third quantile 3520.0199999999995\n"
     ]
    }
   ],
   "source": [
    "print('Ist quantile',q1,'\\nMedian',q2,'\\nThird quantile',q3)"
   ]
  },
  {
   "cell_type": "code",
   "execution_count": 25,
   "id": "95a2ba8d",
   "metadata": {},
   "outputs": [],
   "source": [
    "IQR=q3-q1\n",
    "minimum_value=q1-1.5*IQR\n",
    "maximum_value=q3+1.5*IQR"
   ]
  },
  {
   "cell_type": "code",
   "execution_count": 26,
   "id": "e4dc0c26",
   "metadata": {},
   "outputs": [
    {
     "name": "stdout",
     "output_type": "stream",
     "text": [
      "8205.164999999997 -4288.5549999999985\n"
     ]
    }
   ],
   "source": [
    "print(maximum_value,minimum_value)"
   ]
  },
  {
   "cell_type": "code",
   "execution_count": 27,
   "id": "e142541d",
   "metadata": {},
   "outputs": [],
   "source": [
    "new_series=np.where((minimum_value<sc_data['Mins'])&(sc_data['Mins']<maximum_value),sc_data['Mins'],np.nan)"
   ]
  },
  {
   "cell_type": "code",
   "execution_count": 28,
   "id": "b7f7c2cd",
   "metadata": {},
   "outputs": [
    {
     "data": {
      "text/plain": [
       "array([1849., 3129., 2940., 2842., 1745., 2634., 1967., 2694., 2354.,\n",
       "       2904., 2480., 2340., 2910., 3361., 1392., 1735., 2102., 2984.,\n",
       "       1633., 1690., 2567., 2054., 3294., 2648., 2671., 3247., 3276.,\n",
       "       2633., 2764., 3188., 3308., 2585., 3194., 3031., 3030., 2737.,\n",
       "       2228., 3138., 2033., 3241., 2315., 2673., 2028., 2695., 2449.,\n",
       "       2477., 2871., 2420., 2496., 1351., 2772., 2950., 2000.,  833.,\n",
       "       2894., 1494., 2121., 1895., 3075., 1882., 3385., 3448., 2636.,\n",
       "       2938., 3299., 2250., 3101., 3228., 2347., 2327., 3232., 3182.,\n",
       "       2444., 3511., 2562., 2493., 2578., 1311., 2174., 2856., 2981.,\n",
       "       2757., 2234., 1684., 2448., 2016., 2051., 2670., 2360., 2511.,\n",
       "       1786., 3322., 1412., 2423., 3093., 2821., 2143., 2007., 2147.,\n",
       "       1834., 2390., 2596., 3053., 1872., 2770., 3008., 2071., 3123.,\n",
       "       3168., 2864., 2869., 2163., 2375., 3081., 3555., 2785., 2572.,\n",
       "       1630., 3180., 2517., 3359., 3014., 2229., 2407., 2935., 2735.,\n",
       "       2864., 2797., 2914., 2854., 2115., 3157., 3491., 3177., 2897.,\n",
       "       2799., 3133., 3096., 2244., 2950., 2247., 2507., 2447., 2272.,\n",
       "       3062., 1330., 1555., 2353., 2362., 1666., 2596., 2317., 2312.,\n",
       "       1879., 1974., 2279., 2626., 2419., 2693., 1480., 1465., 2824.,\n",
       "       1224., 1222., 1792., 2278., 1865., 1694., 2847., 2383., 2136.,\n",
       "       1751., 2089., 1953., 2933., 2472., 2931., 1547., 2022., 1769.,\n",
       "       3072., 3148., 2369., 2569., 3148., 2897., 2131., 2964., 2954.,\n",
       "       1999., 2471., 2877., 3300., 3349., 3246., 2849., 2819., 1861.,\n",
       "       2975., 3381., 2560., 3064., 2191., 2857., 3046., 3533., 3269.,\n",
       "       2125., 2741., 3196., 2075., 2262., 3641., 2903., 2388., 2416.,\n",
       "       2213., 2430., 2314., 3147., 2527., 2613., 3033., 2353., 2075.,\n",
       "       2602., 1385., 2661., 1312., 2582., 1781., 2945., 3061., 1965.,\n",
       "       2432., 2587., 2312., 2975., 3090., 2556., 2418., 2719., 3533.,\n",
       "       1434., 3190., 1911., 1517., 1747., 2541., 3446., 2741., 2488.,\n",
       "       3000., 2699., 3115., 3263., 2154., 2900., 2154., 2698., 3651.,\n",
       "       3143., 3233., 3417., 2569., 2684., 2822., 3236., 2714., 2152.,\n",
       "       2580., 2566., 3115., 2905., 3302., 2930., 2886., 3099., 2670.,\n",
       "       3285., 2962., 2175., 2487., 1367., 2808., 3236., 3192., 2850.,\n",
       "       2188., 1081., 2575., 4177., 1689., 3931., 2636., 3231., 1623.,\n",
       "       2595., 2153., 3140., 3277., 3050., 2998., 2169., 2464., 2420.,\n",
       "       2740., 2734., 2657., 1742., 2717., 1555., 3104., 2905., 2521.,\n",
       "       2346., 1834., 3128., 2118., 2398., 2126., 3207., 2990., 2428.,\n",
       "       2923., 3247., 2171., 2831., 2673., 2222., 3034., 2248., 1611.,\n",
       "       3067., 3100., 2929., 2513., 2436., 2923., 3474.,  631., 1867.,\n",
       "        396., 2451., 2732.,  780., 2495.,  575.,  624., 2471.,  605.,\n",
       "        591.,  645., 2537., 1928.,  642., 2054., 2570.,  736.,  280.,\n",
       "       2633.,  337.,  644., 1416., 1656.,  530., 2312., 2981., 2399.,\n",
       "       2747., 1732.,  646.,  714.,  622., 1749.,  356., 2750.,  509.,\n",
       "        567., 1684., 1870., 3156., 3125., 3075., 3263., 3127., 2654.,\n",
       "       3394., 1786., 1637., 3115., 3371., 2627., 2143., 2581., 1370.,\n",
       "       2413., 1906., 1514., 3214., 2387., 2744., 2893., 1502., 1561.,\n",
       "       2586., 2296., 2592., 2783., 1694., 2846., 1116., 2108., 2159.,\n",
       "       2595., 1518., 2718., 2216., 2813., 2252., 1396., 2057., 1353.,\n",
       "       1077., 1994., 2276., 2168., 2409., 2214., 2321., 2163., 1378.,\n",
       "       1325., 2173., 2030., 2106., 2358., 2344., 1611., 2434., 2849.,\n",
       "       3445., 2984., 3271., 2836., 2933., 2616., 2788., 2130., 2663.,\n",
       "       2826., 3045., 2209., 3009., 3392., 2801., 3289., 3087., 2380.,\n",
       "       1566., 3313., 2901., 2193., 1836., 3149., 1929., 1917., 2498.,\n",
       "       2524., 3180., 2648., 3233., 3049., 2716., 2650., 2822., 2062.,\n",
       "       2883., 3181., 1661.,  575.,  574.,  719.,  569.,  896.,  723.,\n",
       "        775.,  827.,  768.,  725.,  524.,  490.,  680.,  824.,  927.,\n",
       "        916.,  834.,  853.,  506.,  911., 2247., 1430., 1872., 1190.,\n",
       "       1816., 2014., 1626., 1482., 2034., 2106., 1726., 1676., 1927.,\n",
       "       2216., 1701., 2063., 1195., 1189., 1864., 1509.,  465.,  691.,\n",
       "        741.,  599.,  629.,  736.,  589.,  637.,  824.,  641.,  387.,\n",
       "        693.,  758.,  566.,  634., 1056.,  790.,  501.,  451.,  822.,\n",
       "        849.,  567.,  831.,  643.,  754.,  755.,  664.,  766.,  825.,\n",
       "        769.,  669.,  656.,  264.,  397.,  580.,  616.,  571.,  694.,\n",
       "        557.,  568.,  561.,  732.,  626.,  778.,  834.,  709.,  822.,\n",
       "        669.,  802.,  547.,  723.,  481.,  293.,  567.,  841.,  683.,\n",
       "        493.,  608.,  857.,  672.,  990.,  644.,  822.,  709.,  902.,\n",
       "        903.,  482.,  772.,  454.,  452.,  627.,  879.,  835.,  903.,\n",
       "       1061., 1008.,  610.,  669.,  903.,  786.,  960.,  809.,  940.,\n",
       "        876.,  835.,  530.,  779.,  872.,  872.,  845.,  898.,  831.,\n",
       "        780.,  956.,  662.,  786.,  872.,  785.,  612.,  861., 1588.,\n",
       "       1348., 1662.,  914., 1235., 1336., 1733., 1397., 1063., 1709.,\n",
       "       1434., 1412., 1605., 1829.,  861., 1208., 1657., 1937., 1207.,\n",
       "       1639., 2023., 2336., 1933., 2256., 2157., 2047., 2287., 2226.,\n",
       "       2147., 2099.,  938., 2265., 2383., 1245., 2194., 2155., 1573.,\n",
       "       2363., 2461., 1557.])"
      ]
     },
     "execution_count": 28,
     "metadata": {},
     "output_type": "execute_result"
    }
   ],
   "source": [
    "new_series"
   ]
  },
  {
   "cell_type": "raw",
   "id": "fa62b157",
   "metadata": {},
   "source": [
    "There is no outlier\n",
    "difference=0"
   ]
  },
  {
   "cell_type": "markdown",
   "id": "3946885d",
   "metadata": {},
   "source": [
    "## -------------------------------------"
   ]
  },
  {
   "cell_type": "raw",
   "id": "c742b7e2",
   "metadata": {},
   "source": [
    "Q6: Which top 5 players have scored the maximum number of goals throughout all the years? Display them in descending order"
   ]
  },
  {
   "cell_type": "code",
   "execution_count": 29,
   "id": "3107018b",
   "metadata": {},
   "outputs": [
    {
     "data": {
      "text/plain": [
       "array([2016, 2017, 2018, 2019, 2020])"
      ]
     },
     "execution_count": 29,
     "metadata": {},
     "output_type": "execute_result"
    }
   ],
   "source": [
    "sc_data['Year'].unique()"
   ]
  },
  {
   "cell_type": "code",
   "execution_count": 50,
   "id": "efbb5010",
   "metadata": {},
   "outputs": [],
   "source": [
    "gr_obj=sc_data.groupby(['Player Names'])\n",
    "name=gr_obj['Goals'].sum().sort_values(ascending=False).head(5)"
   ]
  },
  {
   "cell_type": "code",
   "execution_count": 51,
   "id": "8723adb1",
   "metadata": {},
   "outputs": [
    {
     "data": {
      "text/plain": [
       "Player Names\n",
       "Lionel Messi          135\n",
       "Cristiano Ronaldo     128\n",
       "Robert Lewandowski    127\n",
       "Ciro Immobile         107\n",
       "Luis Suarez            95\n",
       "Name: Goals, dtype: int64"
      ]
     },
     "execution_count": 51,
     "metadata": {},
     "output_type": "execute_result"
    }
   ],
   "source": [
    "name"
   ]
  },
  {
   "cell_type": "markdown",
   "id": "e441ed02",
   "metadata": {},
   "source": [
    "## -----------------------------------------"
   ]
  },
  {
   "cell_type": "raw",
   "id": "0b0e8c94",
   "metadata": {},
   "source": [
    " Q7. Using Bar Plot show in which year has Cristiano Ronaldo scored the most number of goals?"
   ]
  },
  {
   "cell_type": "code",
   "execution_count": 60,
   "id": "bf8dff2f",
   "metadata": {},
   "outputs": [],
   "source": [
    "gr=sc_data.groupby(['Year','Player Names'])['Goals'].sum()"
   ]
  },
  {
   "cell_type": "code",
   "execution_count": 64,
   "id": "131769a2",
   "metadata": {},
   "outputs": [
    {
     "data": {
      "text/plain": [
       "<AxesSubplot:xlabel='Year'>"
      ]
     },
     "execution_count": 64,
     "metadata": {},
     "output_type": "execute_result"
    },
    {
     "data": {
      "image/png": "[encoded data removed]",
      "text/plain": [
       "<Figure size 640x480 with 1 Axes>"
      ]
     },
     "metadata": {},
     "output_type": "display_data"
    }
   ],
   "source": [
    "gr.loc[:,'Cristiano Ronaldo'].plot(kind='bar')"
   ]
  },
  {
   "cell_type": "markdown",
   "id": "ecb5b64d",
   "metadata": {},
   "source": [
    "## ----------------------------------"
   ]
  },
  {
   "cell_type": "raw",
   "id": "53062554",
   "metadata": {},
   "source": [
    "Q8. In the year 2019 who has more Goals between Ronaldo and Messi?\n",
    "First print them normally \n",
    " Display the comparison using a bar plot \n",
    " "
   ]
  },
  {
   "cell_type": "code",
   "execution_count": 116,
   "id": "e6eb731f",
   "metadata": {},
   "outputs": [
    {
     "data": {
      "text/plain": [
       "([<matplotlib.axis.XTick at 0x7fa092bb3d60>,\n",
       "  <matplotlib.axis.XTick at 0x7fa092bb3d30>],\n",
       " [Text(0, 0, 'Lionel Messi'), Text(1, 0, 'Cristiano Ronaldo')])"
      ]
     },
     "execution_count": 116,
     "metadata": {},
     "output_type": "execute_result"
    },
    {
     "data": {
      "image/png": "[encoded data removed]",
      "text/plain": [
       "<Figure size 640x480 with 1 Axes>"
      ]
     },
     "metadata": {},
     "output_type": "display_data"
    }
   ],
   "source": [
    "series=sc_data[(sc_data['Year']==2019)&((sc_data['Player Names']=='Cristiano Ronaldo')|\n",
    "                                 (sc_data['Player Names']=='Lionel Messi'))]\n",
    "\n",
    "series=list(series['Goals'].values)\n",
    "player_name=['Lionel Messi','Cristiano Ronaldo']\n",
    "x_position=range(len(series))\n",
    "plt.bar(x_positions, series)\n",
    "# Add x-axis labels (categories) to the plot\n",
    "plt.xticks(x_positions, player_name)"
   ]
  },
  {
   "cell_type": "markdown",
   "id": "5767fb0f",
   "metadata": {},
   "source": [
    "## ------------------------------------"
   ]
  },
  {
   "cell_type": "raw",
   "id": "adc335e5",
   "metadata": {},
   "source": [
    "Q9: Using Pie Chart show the amount of \n",
    " data various Countries are containing in this dataset(use the Country Columns Display the percentage of data as well in the pie chart"
   ]
  },
  {
   "cell_type": "code",
   "execution_count": 123,
   "id": "24db7368",
   "metadata": {},
   "outputs": [
    {
     "data": {
      "text/plain": [
       "<AxesSubplot:ylabel='Matches_Played'>"
      ]
     },
     "execution_count": 123,
     "metadata": {},
     "output_type": "execute_result"
    },
    {
     "data": {
      "image/png": "[encoded data removed]",
      "text/plain": [
       "<Figure size 640x480 with 1 Axes>"
      ]
     },
     "metadata": {},
     "output_type": "display_data"
    }
   ],
   "source": [
    "sc_data.groupby('Country')['Matches_Played'].count().plot(kind='pie',autopct='% .1f')"
   ]
  },
  {
   "cell_type": "markdown",
   "id": "c9e23fb2",
   "metadata": {},
   "source": [
    "## ---------------------------------------------"
   ]
  },
  {
   "cell_type": "raw",
   "id": "3b7f60a7",
   "metadata": {},
   "source": [
    "Q10: Display a Heatmap  to show the correlation between the columns in the dataset. The heatmap should have the value of the correlation printed within the boxes."
   ]
  },
  {
   "cell_type": "code",
   "execution_count": 124,
   "id": "624d73cb",
   "metadata": {},
   "outputs": [
    {
     "data": {
      "text/plain": [
       "<AxesSubplot:>"
      ]
     },
     "execution_count": 124,
     "metadata": {},
     "output_type": "execute_result"
    },
    {
     "data": {
      "image/png": "[encoded data removed]",
      "text/plain": [
       "<Figure size 1200x600 with 2 Axes>"
      ]
     },
     "metadata": {},
     "output_type": "display_data"
    }
   ],
   "source": [
    "sns.set(rc={'figure.figsize':(12,6)})\n",
    "sns.heatmap(sc_data.corr(numeric_only=True),annot=True, cmap='coolwarm', fmt='.2f')"
   ]
  },
  {
   "cell_type": "markdown",
   "id": "6cf57f53",
   "metadata": {},
   "source": [
    "## ------------------------------------"
   ]
  },
  {
   "cell_type": "raw",
   "id": "8df604f1",
   "metadata": {},
   "source": [
    "Q11: Which Country has the maximum median OnTarget Shots among all the Countries in the year 2020?"
   ]
  },
  {
   "cell_type": "code",
   "execution_count": 129,
   "id": "338777e9",
   "metadata": {},
   "outputs": [
    {
     "data": {
      "text/plain": [
       "Country\n",
       " Netherlands    25.5\n",
       "Brazil          17.0\n",
       "England         10.5\n",
       "France           9.5\n",
       "Germany          9.0\n",
       "Italy           10.0\n",
       "Spain            8.0\n",
       "USA             20.0\n",
       "Name: OnTarget, dtype: float64"
      ]
     },
     "execution_count": 129,
     "metadata": {},
     "output_type": "execute_result"
    }
   ],
   "source": [
    "sc_data[sc_data['Year']==2020].groupby('Country')['OnTarget'].median()"
   ]
  },
  {
   "cell_type": "markdown",
   "id": "4d67ca99",
   "metadata": {},
   "source": [
    "## ----------------------------------"
   ]
  },
  {
   "cell_type": "raw",
   "id": "26fb0ff2",
   "metadata": {},
   "source": [
    "Q12. Who has the best average  Goals per minute?\n",
    "* Consider only those players who have played more than 30 games\n",
    "* Then Find Goals per minute\n",
    "* Find Mean of Goals per minute and sort the values"
   ]
  },
  {
   "cell_type": "code",
   "execution_count": 143,
   "id": "1886c6fa",
   "metadata": {},
   "outputs": [
    {
     "data": {
      "text/plain": [
       "0.011863414049898017"
      ]
     },
     "execution_count": 143,
     "metadata": {},
     "output_type": "execute_result"
    }
   ],
   "source": [
    "temp=sc_data[sc_data['Goals']>30]\n",
    "g_permin=temp['Goals']/temp['Mins']\n",
    "g_permin.mean()"
   ]
  },
  {
   "cell_type": "code",
   "execution_count": 144,
   "id": "180588dd",
   "metadata": {},
   "outputs": [
    {
     "data": {
      "text/plain": [
       "5      0.015945\n",
       "251    0.013264\n",
       "12     0.012715\n",
       "195    0.012636\n",
       "408    0.012217\n",
       "317    0.011509\n",
       "54     0.010712\n",
       "391    0.010679\n",
       "107    0.010567\n",
       "302    0.010340\n",
       "385    0.009914\n",
       "dtype: float64"
      ]
     },
     "execution_count": 144,
     "metadata": {},
     "output_type": "execute_result"
    }
   ],
   "source": [
    "g_permin.sort_values(ascending=False)"
   ]
  },
  {
   "cell_type": "code",
   "execution_count": 147,
   "id": "1c7f3664",
   "metadata": {},
   "outputs": [
    {
     "data": {
      "text/plain": [
       "Country                                Spain\n",
       "League                               La Liga\n",
       "Club                                   (JUV)\n",
       "Player Names               Cristiano Ronaldo\n",
       "Matches_Played                            29\n",
       "Substitution                               0\n",
       "Mins                                    2634\n",
       "Goals                                     42\n",
       "xG                                     24.68\n",
       "xG Per Avg Match                        0.89\n",
       "Shots                                    162\n",
       "OnTarget                                  60\n",
       "Shots Per Avg Match                     5.84\n",
       "On Target Per Avg Match                 2.16\n",
       "Year                                    2016\n",
       "Name: 5, dtype: object"
      ]
     },
     "execution_count": 147,
     "metadata": {},
     "output_type": "execute_result"
    }
   ],
   "source": [
    "sc_data.iloc[5,:]"
   ]
  },
  {
   "cell_type": "markdown",
   "id": "31ab3888",
   "metadata": {},
   "source": [
    "## --------------------------------------------------"
   ]
  },
  {
   "cell_type": "raw",
   "id": "1ff73c37",
   "metadata": {},
   "source": [
    "Q 13. Which Player has the least and most number of missed shots in the dataset?\n",
    "* Missed Shots=Shots-On Target"
   ]
  },
  {
   "cell_type": "code",
   "execution_count": 148,
   "id": "c694b630",
   "metadata": {},
   "outputs": [],
   "source": [
    "missed_shot=sc_data['Shots']-sc_data['OnTarget']"
   ]
  },
  {
   "cell_type": "code",
   "execution_count": 153,
   "id": "e5153b63",
   "metadata": {},
   "outputs": [
    {
     "data": {
      "text/plain": [
       "526      1\n",
       "583      1\n",
       "521      2\n",
       "600      3\n",
       "567      3\n",
       "      ... \n",
       "5      102\n",
       "112    102\n",
       "12     103\n",
       "203    109\n",
       "385    129\n",
       "Length: 660, dtype: int64"
      ]
     },
     "execution_count": 153,
     "metadata": {},
     "output_type": "execute_result"
    }
   ],
   "source": [
    "missed_shot.sort_values()"
   ]
  },
  {
   "cell_type": "code",
   "execution_count": 154,
   "id": "162d267e",
   "metadata": {},
   "outputs": [
    {
     "data": {
      "text/html": [
       "<div>\n",
       "<style scoped>\n",
       "    .dataframe tbody tr th:only-of-type {\n",
       "        vertical-align: middle;\n",
       "    }\n",
       "\n",
       "    .dataframe tbody tr th {\n",
       "        vertical-align: top;\n",
       "    }\n",
       "\n",
       "    .dataframe thead th {\n",
       "        text-align: right;\n",
       "    }\n",
       "</style>\n",
       "<table border=\"1\" class=\"dataframe\">\n",
       "  <thead>\n",
       "    <tr style=\"text-align: right;\">\n",
       "      <th></th>\n",
       "      <th>Country</th>\n",
       "      <th>League</th>\n",
       "      <th>Club</th>\n",
       "      <th>Player Names</th>\n",
       "      <th>Matches_Played</th>\n",
       "      <th>Substitution</th>\n",
       "      <th>Mins</th>\n",
       "      <th>Goals</th>\n",
       "      <th>xG</th>\n",
       "      <th>xG Per Avg Match</th>\n",
       "      <th>Shots</th>\n",
       "      <th>OnTarget</th>\n",
       "      <th>Shots Per Avg Match</th>\n",
       "      <th>On Target Per Avg Match</th>\n",
       "      <th>Year</th>\n",
       "    </tr>\n",
       "  </thead>\n",
       "  <tbody>\n",
       "    <tr>\n",
       "      <th>385</th>\n",
       "      <td>Italy</td>\n",
       "      <td>Serie A</td>\n",
       "      <td>(JUV)</td>\n",
       "      <td>Cristiano Ronaldo</td>\n",
       "      <td>33</td>\n",
       "      <td>0</td>\n",
       "      <td>3127</td>\n",
       "      <td>31</td>\n",
       "      <td>27.32</td>\n",
       "      <td>0.83</td>\n",
       "      <td>208</td>\n",
       "      <td>79</td>\n",
       "      <td>6.32</td>\n",
       "      <td>2.40</td>\n",
       "      <td>2019</td>\n",
       "    </tr>\n",
       "    <tr>\n",
       "      <th>526</th>\n",
       "      <td>Spain</td>\n",
       "      <td>La Liga</td>\n",
       "      <td>(EIB)</td>\n",
       "      <td>Esteban Burgos</td>\n",
       "      <td>6</td>\n",
       "      <td>1</td>\n",
       "      <td>589</td>\n",
       "      <td>3</td>\n",
       "      <td>2.85</td>\n",
       "      <td>0.46</td>\n",
       "      <td>5</td>\n",
       "      <td>4</td>\n",
       "      <td>0.81</td>\n",
       "      <td>0.65</td>\n",
       "      <td>2020</td>\n",
       "    </tr>\n",
       "    <tr>\n",
       "      <th>583</th>\n",
       "      <td>France</td>\n",
       "      <td>France Ligue 10</td>\n",
       "      <td>(MON)</td>\n",
       "      <td>Kevin Volland</td>\n",
       "      <td>9</td>\n",
       "      <td>1</td>\n",
       "      <td>709</td>\n",
       "      <td>5</td>\n",
       "      <td>3.43</td>\n",
       "      <td>0.46</td>\n",
       "      <td>12</td>\n",
       "      <td>11</td>\n",
       "      <td>1.61</td>\n",
       "      <td>1.47</td>\n",
       "      <td>2020</td>\n",
       "    </tr>\n",
       "  </tbody>\n",
       "</table>\n",
       "</div>"
      ],
      "text/plain": [
       "    Country           League   Club       Player Names  Matches_Played  \\\n",
       "385   Italy          Serie A  (JUV)  Cristiano Ronaldo              33   \n",
       "526   Spain          La Liga  (EIB)     Esteban Burgos               6   \n",
       "583  France  France Ligue 10  (MON)      Kevin Volland               9   \n",
       "\n",
       "     Substitution  Mins  Goals     xG  xG Per Avg Match  Shots  OnTarget  \\\n",
       "385             0  3127     31  27.32              0.83    208        79   \n",
       "526             1   589      3   2.85              0.46      5         4   \n",
       "583             1   709      5   3.43              0.46     12        11   \n",
       "\n",
       "     Shots Per Avg Match  On Target Per Avg Match  Year  \n",
       "385                 6.32                     2.40  2019  \n",
       "526                 0.81                     0.65  2020  \n",
       "583                 1.61                     1.47  2020  "
      ]
     },
     "execution_count": 154,
     "metadata": {},
     "output_type": "execute_result"
    }
   ],
   "source": [
    "sc_data.iloc[[385,526,583]]"
   ]
  },
  {
   "cell_type": "markdown",
   "id": "696ea405",
   "metadata": {},
   "source": [
    "## ----------------------------------------------------------------"
   ]
  },
  {
   "cell_type": "raw",
   "id": "e33d6404",
   "metadata": {},
   "source": [
    "Q14: How many countries have had players who played more than 35 matches? Create a bar plot to display the count for each country."
   ]
  },
  {
   "cell_type": "code",
   "execution_count": 157,
   "id": "540d7184",
   "metadata": {},
   "outputs": [
    {
     "data": {
      "text/plain": [
       "<AxesSubplot:xlabel='Country'>"
      ]
     },
     "execution_count": 157,
     "metadata": {},
     "output_type": "execute_result"
    },
    {
     "data": {
      "image/png": "[encoded data removed]",
      "text/plain": [
       "<Figure size 1200x600 with 1 Axes>"
      ]
     },
     "metadata": {},
     "output_type": "display_data"
    }
   ],
   "source": [
    "sc_data[sc_data['Matches_Played']>35].groupby('Country')['Player Names'].nunique().plot(kind='bar')"
   ]
  },
  {
   "cell_type": "markdown",
   "id": "c128f888",
   "metadata": {},
   "source": [
    "## -------------------------------------------------------"
   ]
  },
  {
   "cell_type": "raw",
   "id": "9a34e743",
   "metadata": {},
   "source": [
    "Q15: Draw a Line Chart to show the comparison of the top 5 highest scoring players in the dataset throughout the years(2016-2020)"
   ]
  },
  {
   "cell_type": "code",
   "execution_count": 172,
   "id": "7348fb66",
   "metadata": {},
   "outputs": [
    {
     "data": {
      "text/plain": [
       "Player Names\n",
       "Cristiano Ronaldo            42\n",
       "Lionel Messi                 37\n",
       "Pierre-Emerick Aubameyang    31\n",
       "Robert Lewandowski           30\n",
       "Edin Dzeko                   29\n",
       "Harry Kane                   29\n",
       "Dries Mertens                28\n",
       "Luis Suarez                  28\n",
       "Andrea Belotti               26\n",
       "Romelu Lukaku                25\n",
       "Name: Goals, dtype: int64"
      ]
     },
     "execution_count": 172,
     "metadata": {},
     "output_type": "execute_result"
    }
   ],
   "source": [
    "temp2=sc_data.groupby(['Year','Player Names'])['Goals'].sum().sort_values(ascending=False)\n",
    "temp2.loc[2016].iloc[0:10]\n"
   ]
  },
  {
   "cell_type": "code",
   "execution_count": 173,
   "id": "6746cda5",
   "metadata": {},
   "outputs": [
    {
     "data": {
      "text/plain": [
       "Player Names\n",
       "Lionel Messi          33\n",
       "Ciro Immobile         29\n",
       "Robert Lewandowski    29\n",
       "Mauro Icardi          29\n",
       "Cristiano Ronaldo     26\n",
       "Luis Suarez           25\n",
       "Iago Aspas            22\n",
       "Paulo Dybala          22\n",
       "Cristhian Stuani      21\n",
       "Fabio Quagliarella    19\n",
       "Name: Goals, dtype: int64"
      ]
     },
     "execution_count": 173,
     "metadata": {},
     "output_type": "execute_result"
    }
   ],
   "source": [
    "temp2.loc[2017].iloc[0:10]"
   ]
  },
  {
   "cell_type": "code",
   "execution_count": 174,
   "id": "768c2972",
   "metadata": {},
   "outputs": [
    {
     "data": {
      "text/plain": [
       "Player Names\n",
       "Lionel Messi                 36\n",
       "Kylian Mbappe-Lottin         33\n",
       "Fabio Quagliarella           26\n",
       "Duvan Zapata                 23\n",
       "Krzysztof Piatek             23\n",
       "Robert Lewandowski           22\n",
       "Pierre-Emerick Aubameyang    22\n",
       "Sadio Mane                   22\n",
       "Mohamed Salah                22\n",
       "Nicolas Pepe                 22\n",
       "Name: Goals, dtype: int64"
      ]
     },
     "execution_count": 174,
     "metadata": {},
     "output_type": "execute_result"
    }
   ],
   "source": [
    "temp2.loc[2018].iloc[0:10]"
   ]
  },
  {
   "cell_type": "code",
   "execution_count": 175,
   "id": "527c1cc8",
   "metadata": {},
   "outputs": [
    {
     "data": {
      "text/plain": [
       "Player Names\n",
       "Carlos Vela           36\n",
       "Ciro Immobile         36\n",
       "Robert Lewandowski    34\n",
       "Zlatan Ibrahimovic    31\n",
       "Cristiano Ronaldo     31\n",
       "Josef Martinez        28\n",
       "Timo Werner           28\n",
       "Lionel Messi          25\n",
       "Gabriel Barbosa       25\n",
       "Jamie Vardy           23\n",
       "Name: Goals, dtype: int64"
      ]
     },
     "execution_count": 175,
     "metadata": {},
     "output_type": "execute_result"
    }
   ],
   "source": [
    "temp2.loc[2019].iloc[0:10]"
   ]
  },
  {
   "cell_type": "code",
   "execution_count": 176,
   "id": "b95cac29",
   "metadata": {},
   "outputs": [
    {
     "data": {
      "text/plain": [
       "Player Names\n",
       "Cyriel Dessers     15\n",
       "Thiago Galhardo    15\n",
       "Steven Berghuis    15\n",
       "Diego Rossi        14\n",
       "Gyasi Zardes       14\n",
       "Myron Boadu        14\n",
       "Raul Ruidiaz       14\n",
       "Bryan Linssen      14\n",
       "Marinho            13\n",
       "Robert Beric       13\n",
       "Name: Goals, dtype: int64"
      ]
     },
     "execution_count": 176,
     "metadata": {},
     "output_type": "execute_result"
    }
   ],
   "source": [
    "temp2.loc[2020].iloc[0:10]"
   ]
  },
  {
   "cell_type": "code",
   "execution_count": null,
   "id": "fcaa2e7f",
   "metadata": {},
   "outputs": [],
   "source": []
  },
  {
   "cell_type": "code",
   "execution_count": null,
   "id": "d44a1dfb",
   "metadata": {},
   "outputs": [],
   "source": []
  },
  {
   "cell_type": "code",
   "execution_count": null,
   "id": "7e11014d",
   "metadata": {},
   "outputs": [],
   "source": [
    "for player in top_5_players:\n",
    "    player_data = df_filtered[df_filtered['Player Names'] == player]\n",
    "    plt.plot(player_data['Year'], player_data['Goals'], marker='o', label=player)\n",
    "\n",
    "plt.xlabel('Year')\n",
    "plt.ylabel('Total Goals')\n",
    "plt.title('Top 5 Highest Scoring Players (2016-2020)')\n",
    "plt.legend()\n",
    "plt.grid(True)\n",
    "plt.show()"
   ]
  },
  {
   "cell_type": "code",
   "execution_count": null,
   "id": "20158ec0",
   "metadata": {},
   "outputs": [],
   "source": []
  },
  {
   "cell_type": "code",
   "execution_count": 133,
   "id": "2e6c307f",
   "metadata": {},
   "outputs": [
    {
     "data": {
      "text/html": [
       "<div>\n",
       "<style scoped>\n",
       "    .dataframe tbody tr th:only-of-type {\n",
       "        vertical-align: middle;\n",
       "    }\n",
       "\n",
       "    .dataframe tbody tr th {\n",
       "        vertical-align: top;\n",
       "    }\n",
       "\n",
       "    .dataframe thead th {\n",
       "        text-align: right;\n",
       "    }\n",
       "</style>\n",
       "<table border=\"1\" class=\"dataframe\">\n",
       "  <thead>\n",
       "    <tr style=\"text-align: right;\">\n",
       "      <th></th>\n",
       "      <th>Country</th>\n",
       "      <th>League</th>\n",
       "      <th>Club</th>\n",
       "      <th>Player Names</th>\n",
       "      <th>Matches_Played</th>\n",
       "      <th>Substitution</th>\n",
       "      <th>Mins</th>\n",
       "      <th>Goals</th>\n",
       "      <th>xG</th>\n",
       "      <th>xG Per Avg Match</th>\n",
       "      <th>Shots</th>\n",
       "      <th>OnTarget</th>\n",
       "      <th>Shots Per Avg Match</th>\n",
       "      <th>On Target Per Avg Match</th>\n",
       "      <th>Year</th>\n",
       "    </tr>\n",
       "  </thead>\n",
       "  <tbody>\n",
       "    <tr>\n",
       "      <th>0</th>\n",
       "      <td>Spain</td>\n",
       "      <td>La Liga</td>\n",
       "      <td>(BET)</td>\n",
       "      <td>Juanmi Callejon</td>\n",
       "      <td>19</td>\n",
       "      <td>16</td>\n",
       "      <td>1849</td>\n",
       "      <td>11</td>\n",
       "      <td>6.62</td>\n",
       "      <td>0.34</td>\n",
       "      <td>48</td>\n",
       "      <td>20</td>\n",
       "      <td>2.47</td>\n",
       "      <td>1.03</td>\n",
       "      <td>2016</td>\n",
       "    </tr>\n",
       "    <tr>\n",
       "      <th>1</th>\n",
       "      <td>Spain</td>\n",
       "      <td>La Liga</td>\n",
       "      <td>(BAR)</td>\n",
       "      <td>Antoine Griezmann</td>\n",
       "      <td>36</td>\n",
       "      <td>0</td>\n",
       "      <td>3129</td>\n",
       "      <td>16</td>\n",
       "      <td>11.86</td>\n",
       "      <td>0.36</td>\n",
       "      <td>88</td>\n",
       "      <td>41</td>\n",
       "      <td>2.67</td>\n",
       "      <td>1.24</td>\n",
       "      <td>2016</td>\n",
       "    </tr>\n",
       "    <tr>\n",
       "      <th>2</th>\n",
       "      <td>Spain</td>\n",
       "      <td>La Liga</td>\n",
       "      <td>(ATL)</td>\n",
       "      <td>Luis Suarez</td>\n",
       "      <td>34</td>\n",
       "      <td>1</td>\n",
       "      <td>2940</td>\n",
       "      <td>28</td>\n",
       "      <td>23.21</td>\n",
       "      <td>0.75</td>\n",
       "      <td>120</td>\n",
       "      <td>57</td>\n",
       "      <td>3.88</td>\n",
       "      <td>1.84</td>\n",
       "      <td>2016</td>\n",
       "    </tr>\n",
       "    <tr>\n",
       "      <th>3</th>\n",
       "      <td>Spain</td>\n",
       "      <td>La Liga</td>\n",
       "      <td>(CAR)</td>\n",
       "      <td>Ruben Castro</td>\n",
       "      <td>32</td>\n",
       "      <td>3</td>\n",
       "      <td>2842</td>\n",
       "      <td>13</td>\n",
       "      <td>14.06</td>\n",
       "      <td>0.47</td>\n",
       "      <td>117</td>\n",
       "      <td>42</td>\n",
       "      <td>3.91</td>\n",
       "      <td>1.40</td>\n",
       "      <td>2016</td>\n",
       "    </tr>\n",
       "    <tr>\n",
       "      <th>4</th>\n",
       "      <td>Spain</td>\n",
       "      <td>La Liga</td>\n",
       "      <td>(VAL)</td>\n",
       "      <td>Kevin Gameiro</td>\n",
       "      <td>21</td>\n",
       "      <td>10</td>\n",
       "      <td>1745</td>\n",
       "      <td>13</td>\n",
       "      <td>10.65</td>\n",
       "      <td>0.58</td>\n",
       "      <td>50</td>\n",
       "      <td>23</td>\n",
       "      <td>2.72</td>\n",
       "      <td>1.25</td>\n",
       "      <td>2016</td>\n",
       "    </tr>\n",
       "    <tr>\n",
       "      <th>...</th>\n",
       "      <td>...</td>\n",
       "      <td>...</td>\n",
       "      <td>...</td>\n",
       "      <td>...</td>\n",
       "      <td>...</td>\n",
       "      <td>...</td>\n",
       "      <td>...</td>\n",
       "      <td>...</td>\n",
       "      <td>...</td>\n",
       "      <td>...</td>\n",
       "      <td>...</td>\n",
       "      <td>...</td>\n",
       "      <td>...</td>\n",
       "      <td>...</td>\n",
       "      <td>...</td>\n",
       "    </tr>\n",
       "    <tr>\n",
       "      <th>655</th>\n",
       "      <td>Netherlands</td>\n",
       "      <td>Eredivisie</td>\n",
       "      <td>(UTR)</td>\n",
       "      <td>Gyrano Kerk</td>\n",
       "      <td>24</td>\n",
       "      <td>0</td>\n",
       "      <td>2155</td>\n",
       "      <td>10</td>\n",
       "      <td>7.49</td>\n",
       "      <td>0.33</td>\n",
       "      <td>50</td>\n",
       "      <td>18</td>\n",
       "      <td>2.20</td>\n",
       "      <td>0.79</td>\n",
       "      <td>2020</td>\n",
       "    </tr>\n",
       "    <tr>\n",
       "      <th>656</th>\n",
       "      <td>Netherlands</td>\n",
       "      <td>Eredivisie</td>\n",
       "      <td>(AJA)</td>\n",
       "      <td>Quincy Promes</td>\n",
       "      <td>18</td>\n",
       "      <td>2</td>\n",
       "      <td>1573</td>\n",
       "      <td>12</td>\n",
       "      <td>9.77</td>\n",
       "      <td>0.59</td>\n",
       "      <td>56</td>\n",
       "      <td>30</td>\n",
       "      <td>3.38</td>\n",
       "      <td>1.81</td>\n",
       "      <td>2020</td>\n",
       "    </tr>\n",
       "    <tr>\n",
       "      <th>657</th>\n",
       "      <td>Netherlands</td>\n",
       "      <td>Eredivisie</td>\n",
       "      <td>(PSV)</td>\n",
       "      <td>Denzel Dumfries</td>\n",
       "      <td>25</td>\n",
       "      <td>0</td>\n",
       "      <td>2363</td>\n",
       "      <td>7</td>\n",
       "      <td>5.72</td>\n",
       "      <td>0.23</td>\n",
       "      <td>45</td>\n",
       "      <td>14</td>\n",
       "      <td>1.81</td>\n",
       "      <td>0.56</td>\n",
       "      <td>2020</td>\n",
       "    </tr>\n",
       "    <tr>\n",
       "      <th>658</th>\n",
       "      <td>Netherlands</td>\n",
       "      <td>Eredivisie</td>\n",
       "      <td>NaN</td>\n",
       "      <td>Cyriel Dessers</td>\n",
       "      <td>26</td>\n",
       "      <td>0</td>\n",
       "      <td>2461</td>\n",
       "      <td>15</td>\n",
       "      <td>14.51</td>\n",
       "      <td>0.56</td>\n",
       "      <td>84</td>\n",
       "      <td>43</td>\n",
       "      <td>3.24</td>\n",
       "      <td>1.66</td>\n",
       "      <td>2020</td>\n",
       "    </tr>\n",
       "    <tr>\n",
       "      <th>659</th>\n",
       "      <td>Netherlands</td>\n",
       "      <td>Eredivisie</td>\n",
       "      <td>(PSV)</td>\n",
       "      <td>Cody Gakpo</td>\n",
       "      <td>14</td>\n",
       "      <td>11</td>\n",
       "      <td>1557</td>\n",
       "      <td>7</td>\n",
       "      <td>4.43</td>\n",
       "      <td>0.27</td>\n",
       "      <td>38</td>\n",
       "      <td>15</td>\n",
       "      <td>2.32</td>\n",
       "      <td>0.92</td>\n",
       "      <td>2020</td>\n",
       "    </tr>\n",
       "  </tbody>\n",
       "</table>\n",
       "<p>660 rows × 15 columns</p>\n",
       "</div>"
      ],
      "text/plain": [
       "          Country      League   Club       Player Names  Matches_Played  \\\n",
       "0           Spain     La Liga  (BET)    Juanmi Callejon              19   \n",
       "1           Spain     La Liga  (BAR)  Antoine Griezmann              36   \n",
       "2           Spain     La Liga  (ATL)        Luis Suarez              34   \n",
       "3           Spain     La Liga  (CAR)       Ruben Castro              32   \n",
       "4           Spain     La Liga  (VAL)      Kevin Gameiro              21   \n",
       "..            ...         ...    ...                ...             ...   \n",
       "655   Netherlands  Eredivisie  (UTR)        Gyrano Kerk              24   \n",
       "656   Netherlands  Eredivisie  (AJA)      Quincy Promes              18   \n",
       "657   Netherlands  Eredivisie  (PSV)    Denzel Dumfries              25   \n",
       "658   Netherlands  Eredivisie    NaN    Cyriel Dessers               26   \n",
       "659   Netherlands  Eredivisie  (PSV)         Cody Gakpo              14   \n",
       "\n",
       "     Substitution  Mins  Goals     xG  xG Per Avg Match  Shots  OnTarget  \\\n",
       "0              16  1849     11   6.62              0.34     48        20   \n",
       "1               0  3129     16  11.86              0.36     88        41   \n",
       "2               1  2940     28  23.21              0.75    120        57   \n",
       "3               3  2842     13  14.06              0.47    117        42   \n",
       "4              10  1745     13  10.65              0.58     50        23   \n",
       "..            ...   ...    ...    ...               ...    ...       ...   \n",
       "655             0  2155     10   7.49              0.33     50        18   \n",
       "656             2  1573     12   9.77              0.59     56        30   \n",
       "657             0  2363      7   5.72              0.23     45        14   \n",
       "658             0  2461     15  14.51              0.56     84        43   \n",
       "659            11  1557      7   4.43              0.27     38        15   \n",
       "\n",
       "     Shots Per Avg Match  On Target Per Avg Match  Year  \n",
       "0                   2.47                     1.03  2016  \n",
       "1                   2.67                     1.24  2016  \n",
       "2                   3.88                     1.84  2016  \n",
       "3                   3.91                     1.40  2016  \n",
       "4                   2.72                     1.25  2016  \n",
       "..                   ...                      ...   ...  \n",
       "655                 2.20                     0.79  2020  \n",
       "656                 3.38                     1.81  2020  \n",
       "657                 1.81                     0.56  2020  \n",
       "658                 3.24                     1.66  2020  \n",
       "659                 2.32                     0.92  2020  \n",
       "\n",
       "[660 rows x 15 columns]"
      ]
     },
     "execution_count": 133,
     "metadata": {},
     "output_type": "execute_result"
    }
   ],
   "source": [
    "sc_data"
   ]
  },
  {
   "cell_type": "code",
   "execution_count": 158,
   "id": "93d10631",
   "metadata": {},
   "outputs": [
    {
     "data": {
      "text/plain": [
       "444"
      ]
     },
     "execution_count": 158,
     "metadata": {},
     "output_type": "execute_result"
    }
   ],
   "source": [
    "sc_data['Player Names'].nunique()"
   ]
  },
  {
   "cell_type": "code",
   "execution_count": null,
   "id": "d544c8ea",
   "metadata": {},
   "outputs": [],
   "source": []
  },
  {
   "cell_type": "code",
   "execution_count": null,
   "id": "08b93a0e",
   "metadata": {},
   "outputs": [],
   "source": []
  },
  {
   "cell_type": "code",
   "execution_count": null,
   "id": "8a07440b",
   "metadata": {},
   "outputs": [],
   "source": []
  },
  {
   "cell_type": "code",
   "execution_count": null,
   "id": "1258018a",
   "metadata": {},
   "outputs": [],
   "source": []
  },
  {
   "cell_type": "code",
   "execution_count": null,
   "id": "9792495f",
   "metadata": {},
   "outputs": [],
   "source": []
  },
  {
   "cell_type": "code",
   "execution_count": null,
   "id": "944f18cb",
   "metadata": {},
   "outputs": [],
   "source": []
  }
 ],
 "metadata": {
  "kernelspec": {
   "display_name": "Python 3 (ipykernel)",
   "language": "python",
   "name": "python3"
  },
  "language_info": {
   "codemirror_mode": {
    "name": "ipython",
    "version": 3
   },
   "file_extension": ".py",
   "mimetype": "text/x-python",
   "name": "python",
   "nbconvert_exporter": "python",
   "pygments_lexer": "ipython3",
   "version": "3.9.13"
  }
 },
 "nbformat": 4,
 "nbformat_minor": 5
}
